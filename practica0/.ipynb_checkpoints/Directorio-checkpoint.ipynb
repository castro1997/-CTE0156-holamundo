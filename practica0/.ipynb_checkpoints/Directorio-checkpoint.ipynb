{
 "cells": [
  {
   "cell_type": "code",
   "execution_count": 1,
   "metadata": {},
   "outputs": [],
   "source": [
    "lunes = dict ( trabajo = ['prender compu','armar circuito','simular'],\n",
    "               cocinar = ['cortar','sasonar','servir'],\n",
    "               comprar = ['carne','huevos','pollo'] ,\n",
    "               domir = ['lavarse los dientes','lavarse la cara','acostarse'])"
   ]
  },
  {
   "cell_type": "code",
   "execution_count": 3,
   "metadata": {},
   "outputs": [
    {
     "name": "stdout",
     "output_type": "stream",
     "text": [
      "Actividades: trabajo\n",
      "Tareas:  ['prender compu', 'armar circuito', 'simular']\n",
      "Actividades: cocinar\n",
      "Tareas:  ['cortar', 'sasonar', 'servir']\n",
      "Actividades: comprar\n",
      "Tareas:  ['carne', 'huevos', 'pollo']\n",
      "Actividades: domir\n",
      "Tareas:  ['lavarse los dientes', 'lavarse la cara', 'acostarse']\n"
     ]
    }
   ],
   "source": [
    "for i in lunes.keys() :\n",
    "    print ('Actividades: '+i)\n",
    "    print ('Tareas: ', lunes[i])"
   ]
  },
  {
   "cell_type": "code",
   "execution_count": null,
   "metadata": {},
   "outputs": [],
   "source": []
  }
 ],
 "metadata": {
  "kernelspec": {
   "display_name": "Python 3",
   "language": "python",
   "name": "python3"
  },
  "language_info": {
   "codemirror_mode": {
    "name": "ipython",
    "version": 3
   },
   "file_extension": ".py",
   "mimetype": "text/x-python",
   "name": "python",
   "nbconvert_exporter": "python",
   "pygments_lexer": "ipython3",
   "version": "3.7.6"
  }
 },
 "nbformat": 4,
 "nbformat_minor": 4
}
